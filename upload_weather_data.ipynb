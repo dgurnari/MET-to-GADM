{
 "cells": [
  {
   "cell_type": "code",
   "execution_count": 1,
   "metadata": {
    "colab": {
     "base_uri": "https://localhost:8080/",
     "height": 72
    },
    "colab_type": "code",
    "id": "1tyH3bMWuB1Z",
    "outputId": "2e9eeb53-b8a3-4810-a25b-93c0b3ec88c0"
   },
   "outputs": [],
   "source": [
    "import numpy as np\n",
    "import pandas as pd\n",
    "import pickle\n",
    "import json\n",
    "import psycopg2"
   ]
  },
  {
   "cell_type": "markdown",
   "metadata": {},
   "source": [
    "# Upload to DB"
   ]
  },
  {
   "cell_type": "code",
   "execution_count": 2,
   "metadata": {},
   "outputs": [],
   "source": [
    "def create_weather_table(cur):\n",
    "    sql_create_country_stats_table = \"\"\" \n",
    "        CREATE TABLE IF NOT EXISTS weather (\n",
    "            day text NOT NULL,\n",
    "            countrycode text NOT NULL,\n",
    "            gid text NOT NULL,\n",
    "            precip_max_avg float,\n",
    "            precip_max_std float,\n",
    "            precip_mean_avg float,\n",
    "            precip_mean_std float,\n",
    "            specific_humidity_max_avg float,\n",
    "            specific_humidity_max_std float,\n",
    "            specific_humidity_mean_avg float,\n",
    "            specific_humidity_mean_std float,\n",
    "            specific_humidity_min_avg float,\n",
    "            specific_humidity_min_std float,\n",
    "            short_wave_radiation_max_avg float,\n",
    "            short_wave_radiation_max_std float,\n",
    "            short_wave_radiation_mean_avg float,\n",
    "            short_wave_radiation_mean_std float,\n",
    "            air_temperature_max_avg float,\n",
    "            air_temperature_max_std float,\n",
    "            air_temperature_mean_avg float,\n",
    "            air_temperature_mean_std float,\n",
    "            air_temperature_min_avg float,\n",
    "            air_temperature_min_std float,\n",
    "            windgust_max_avg float,\n",
    "            windgust_max_std float,\n",
    "            windgust_mean_avg float,\n",
    "            windgust_mean_std float,\n",
    "            windgust_min_avg float,\n",
    "            windgust_min_std float,\n",
    "            windspeed_max_avg float,\n",
    "            windspeed_max_std float,\n",
    "            windspeed_mean_avg float,\n",
    "            windspeed_mean_std float,\n",
    "            windspeed_min_avg float,\n",
    "            windspeed_min_std float,\n",
    "\n",
    "            UNIQUE (gid, day),\n",
    "            PRIMARY KEY (gid, day)\n",
    "        )\"\"\"\n",
    "\n",
    "    cur.execute(sql_create_country_stats_table)\n",
    "\n",
    "    print(\"weather table created\")"
   ]
  },
  {
   "cell_type": "code",
   "execution_count": 3,
   "metadata": {},
   "outputs": [],
   "source": [
    "def drop_weather_table(cur):\n",
    "    sql_drop_table = \"\"\"DROP TABLE weather\"\"\"\n",
    "    \n",
    "    try:\n",
    "        cur.execute(sql_drop_table)\n",
    "        print(\"weather table deleted\")\n",
    "    except:\n",
    "        print(\"weather not present\")"
   ]
  },
  {
   "cell_type": "code",
   "execution_count": 8,
   "metadata": {},
   "outputs": [],
   "source": [
    "def import_data(cur,data):\n",
    "    \n",
    "    INSERT_STATEMENT = 'INSERT INTO weather \\\n",
    "                        (day, \\\n",
    "                        countrycode, \\\n",
    "                        gid, \\\n",
    "                        precip_max_avg, \\\n",
    "                        precip_max_std, \\\n",
    "                        precip_mean_avg, \\\n",
    "                        precip_mean_std, \\\n",
    "                        specific_humidity_max_avg, \\\n",
    "                        specific_humidity_max_std, \\\n",
    "                        specific_humidity_mean_avg, \\\n",
    "                        specific_humidity_mean_std, \\\n",
    "                        specific_humidity_min_avg, \\\n",
    "                        specific_humidity_min_std, \\\n",
    "                        short_wave_radiation_max_avg, \\\n",
    "                        short_wave_radiation_max_std, \\\n",
    "                        short_wave_radiation_mean_avg, \\\n",
    "                        short_wave_radiation_mean_std, \\\n",
    "                        air_temperature_max_avg, \\\n",
    "                        air_temperature_max_std, \\\n",
    "                        air_temperature_mean_avg, \\\n",
    "                        air_temperature_mean_std, \\\n",
    "                        air_temperature_min_avg, \\\n",
    "                        air_temperature_min_std, \\\n",
    "                        windgust_max_avg, \\\n",
    "                        windgust_max_std, \\\n",
    "                        windgust_mean_avg, \\\n",
    "                        windgust_mean_std, \\\n",
    "                        windgust_min_avg, \\\n",
    "                        windgust_min_std, \\\n",
    "                        windspeed_max_avg, \\\n",
    "                        windspeed_max_std, \\\n",
    "                        windspeed_mean_avg, \\\n",
    "                        windspeed_mean_std, \\\n",
    "                        windspeed_min_avg, \\\n",
    "                        windspeed_min_std) \\\n",
    "                        VALUES (%s, %s, %s, %s, %s, \\\n",
    "                                %s, %s, %s, %s, %s, \\\n",
    "                                %s, %s, %s, %s, %s, \\\n",
    "                                %s, %s, %s, %s, %s, \\\n",
    "                                %s, %s, %s, %s, %s, \\\n",
    "                                %s, %s, %s, %s, %s, \\\n",
    "                                %s, %s, %s, %s, %s);'\n",
    "    \n",
    "\n",
    "    for idx, row in data.iterrows():\n",
    "        if idx % 1000 == 0:\n",
    "            print(idx)\n",
    "        cur.execute(INSERT_STATEMENT, ( row['day'],\n",
    "                                        row['country'],\n",
    "                                        row['city'],\n",
    "                                        row['precip_max_avg'],\n",
    "                                        row['precip_max_std'],\n",
    "                                        row['precip_mean_avg'],\n",
    "                                        row['precip_mean_std'],\n",
    "                                        row['specific_humidity_max_avg'],\n",
    "                                        row['specific_humidity_max_std'],\n",
    "                                        row['specific_humidity_mean_avg'],\n",
    "                                        row['specific_humidity_mean_std'],\n",
    "                                        row['specific_humidity_min_avg'],\n",
    "                                        row['specific_humidity_min_std'],\n",
    "                                        row['short_wave_radiation_max_avg'],\n",
    "                                        row['short_wave_radiation_max_std'],\n",
    "                                        row['short_wave_radiation_mean_avg'],\n",
    "                                        row['short_wave_radiation_mean_std'],\n",
    "                                        row['air_temperature_max_avg'],\n",
    "                                        row['air_temperature_max_std'],\n",
    "                                        row['air_temperature_mean_avg'],\n",
    "                                        row['air_temperature_mean_std'],\n",
    "                                        row['air_temperature_min_avg'],\n",
    "                                        row['air_temperature_min_std'],\n",
    "                                        row['windgust_max_avg'],\n",
    "                                        row['windgust_max_std'],\n",
    "                                        row['windgust_mean_avg'],\n",
    "                                        row['windgust_mean_std'],\n",
    "                                        row['windgust_min_avg'],\n",
    "                                        row['windgust_min_std'],\n",
    "                                        row['windspeed_max_avg'],\n",
    "                                        row['windspeed_max_std'],\n",
    "                                        row['windspeed_mean_avg'],\n",
    "                                        row['windspeed_mean_std'],\n",
    "                                        row['windspeed_min_avg'],\n",
    "                                        row['windspeed_min_std']))"
   ]
  },
  {
   "cell_type": "code",
   "execution_count": 9,
   "metadata": {},
   "outputs": [],
   "source": [
    "# Connect to covid19db.org\n",
    "conn = psycopg2.connect(\n",
    "    host='covid19db.org',\n",
    "    port=5432,\n",
    "    dbname='covid19db_adm_play',\n",
    "    user='covid19db_adm_rw',\n",
    "    password='fGt962FdeG2yXj3c4d3'\n",
    ")\n",
    "\n",
    "cur = conn.cursor()"
   ]
  },
  {
   "cell_type": "code",
   "execution_count": 2,
   "metadata": {},
   "outputs": [],
   "source": [
    "# loads data\n",
    "weather = pd.read_pickle(\"to_upload/WORLD_20200101_20200430.pkl\")"
   ]
  },
  {
   "cell_type": "code",
   "execution_count": null,
   "metadata": {},
   "outputs": [
    {
     "name": "stdout",
     "output_type": "stream",
     "text": [
      "weather table deleted\n",
      "weather table created\n",
      "0\n",
      "1000\n",
      "2000\n",
      "3000\n",
      "4000\n",
      "5000\n",
      "6000\n",
      "7000\n"
     ]
    }
   ],
   "source": [
    "drop_weather_table(cur)\n",
    "conn.commit()\n",
    "\n",
    "create_weather_table(cur)\n",
    "conn.commit()\n",
    "\n",
    "import_data(cur, weather)\n",
    "conn.commit()\n",
    "print(\"data uploaded\")"
   ]
  },
  {
   "cell_type": "markdown",
   "metadata": {},
   "source": [
    "## Test DB"
   ]
  },
  {
   "cell_type": "code",
   "execution_count": null,
   "metadata": {},
   "outputs": [],
   "source": [
    "# Connect to covid19db.org\n",
    "# insert user and psw\n",
    "conn = psycopg2.connect(\n",
    "    host='covid19db.org',\n",
    "    port=5432,\n",
    "    dbname='',\n",
    "    user='',\n",
    "    password=''\n",
    ")\n",
    "\n",
    "cur = conn.cursor()"
   ]
  },
  {
   "cell_type": "code",
   "execution_count": null,
   "metadata": {},
   "outputs": [],
   "source": [
    "cur.execute(\"\"\"SELECT * FROM weather\"\"\")\n",
    "\n",
    "data = pd.DataFrame(cur.fetchall(), columns=[desc[0] for desc in cur.description])\n",
    "data.head()"
   ]
  },
  {
   "cell_type": "code",
   "execution_count": null,
   "metadata": {},
   "outputs": [],
   "source": []
  }
 ],
 "metadata": {
  "colab": {
   "collapsed_sections": [],
   "name": "merge_grid_dicts.ipynb",
   "provenance": [],
   "toc_visible": true
  },
  "kernelspec": {
   "display_name": "Python 3",
   "language": "python",
   "name": "python3"
  },
  "language_info": {
   "codemirror_mode": {
    "name": "ipython",
    "version": 3
   },
   "file_extension": ".py",
   "mimetype": "text/x-python",
   "name": "python",
   "nbconvert_exporter": "python",
   "pygments_lexer": "ipython3",
   "version": "3.7.6"
  }
 },
 "nbformat": 4,
 "nbformat_minor": 1
}
