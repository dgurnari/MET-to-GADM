{
 "cells": [
  {
   "cell_type": "code",
   "execution_count": null,
   "metadata": {
    "colab": {
     "base_uri": "https://localhost:8080/",
     "height": 72
    },
    "colab_type": "code",
    "id": "1tyH3bMWuB1Z",
    "outputId": "2e9eeb53-b8a3-4810-a25b-93c0b3ec88c0"
   },
   "outputs": [],
   "source": [
    "import numpy as np\n",
    "import pandas as pd\n",
    "import pickle\n",
    "\n",
    "import netCDF4\n",
    " \n",
    "import datetime\n",
    "\n",
    "import psycopg2\n",
    "\n",
    "import os\n",
    "\n",
    "from requests import get  # to make GET request\n"
   ]
  },
  {
   "cell_type": "code",
   "execution_count": null,
   "metadata": {},
   "outputs": [],
   "source": [
    "URL = \"https://metdatasa.blob.core.windows.net/covid19-response/metoffice_global_daily/\""
   ]
  },
  {
   "cell_type": "code",
   "execution_count": null,
   "metadata": {},
   "outputs": [],
   "source": [
    "!mkdir temp"
   ]
  },
  {
   "cell_type": "code",
   "execution_count": null,
   "metadata": {},
   "outputs": [],
   "source": [
    "# load level 2 dict\n",
    "with open('input/dicts/adm_2_to_grid.pkl', 'rb') as handle:\n",
    "    adm_2_to_grid = pickle.load(handle)"
   ]
  },
  {
   "cell_type": "markdown",
   "metadata": {},
   "source": [
    "# Query the DB to find the most recent weather data"
   ]
  },
  {
   "cell_type": "code",
   "execution_count": null,
   "metadata": {},
   "outputs": [],
   "source": [
    "# Connect to covid19db.org\n",
    "conn = psycopg2.connect(\n",
    "    host='covid19db.org',\n",
    "    port=5432,\n",
    "    dbname='covid19',\n",
    "    user='covid19',\n",
    "    password='covid19'\n",
    "    )\n",
    "\n",
    "cur = conn.cursor()"
   ]
  },
  {
   "cell_type": "code",
   "execution_count": null,
   "metadata": {},
   "outputs": [],
   "source": [
    "cur.execute(\"\"\"SELECT date FROM weather\"\"\")\n",
    "\n",
    "date = pd.DataFrame(cur.fetchall(), columns=[\"date\"])\n",
    "most_recent = date.date.values[-1]"
   ]
  },
  {
   "cell_type": "code",
   "execution_count": null,
   "metadata": {},
   "outputs": [],
   "source": [
    "#Define date range\n",
    "start = most_recent + datetime.timedelta(days=1)\n",
    "stop = datetime.datetime.now() - datetime.timedelta(days=1)\n",
    "step = datetime.timedelta(days=1)\n",
    "DATERANGE = pd.date_range(start, stop, freq=step)\n",
    "DATERANGE\n"
   ]
  },
  {
   "cell_type": "markdown",
   "metadata": {},
   "source": [
    "## Create a DF for each variable and then merge"
   ]
  },
  {
   "cell_type": "code",
   "execution_count": null,
   "metadata": {},
   "outputs": [],
   "source": [
    "variables = {'precip_max': {'folder': 'precip_max', \n",
    "                            'file': 'global_daily_precip_max_',\n",
    "                            'variable': 'precipitation_flux'},\n",
    "            'precip_mean': {'folder': 'precip_mean', \n",
    "                            'file': 'global_daily_precip_mean_',\n",
    "                            'variable': 'precipitation_flux'},\n",
    "            'specific_humidity_max': {'folder': 'sh_max', \n",
    "                                      'file': 'global_daily_sh_max_',\n",
    "                                      'variable': 'specific_humidity'},\n",
    "            'specific_humidity_mean': {'folder': 'sh_mean', \n",
    "                                       'file': 'global_daily_sh_mean_',\n",
    "                                       'variable': 'specific_humidity'},\n",
    "            'specific_humidity_min': {'folder': 'sh_min', \n",
    "                                      'file': 'global_daily_sh_min_',\n",
    "                                      'variable': 'specific_humidity'},\n",
    "            'short_wave_radiation_max': {'folder': 'sw_max', \n",
    "                                         'file': 'global_daily_sw_max_',\n",
    "                                         'variable': 'm01s01i202'},\n",
    "            'short_wave_radiation_mean': {'folder': 'sw_mean', \n",
    "                                          'file': 'global_daily_sw_mean_',\n",
    "                                          'variable': 'm01s01i202'},\n",
    "            'air_temperature_max': {'folder': 't1o5m_max', \n",
    "                                     'file': 'global_daily_t1o5m_max_',\n",
    "                                     'variable': 'air_temperature'},\n",
    "            'air_temperature_mean': {'folder': 't1o5m_mean', \n",
    "                                     'file': 'global_daily_t1o5m_mean_',\n",
    "                                     'variable': 'air_temperature'},\n",
    "            'air_temperature_min': {'folder': 't1o5m_min', \n",
    "                                     'file': 'global_daily_t1o5m_min_',\n",
    "                                     'variable': 'air_temperature'},\n",
    "            'windgust_max': {'folder': 'windgust_max', \n",
    "                                     'file': 'global_daily_windgust_max_',\n",
    "                                     'variable': 'wind_speed_of_gust'},\n",
    "            'windgust_mean': {'folder': 'windgust_mean', \n",
    "                                     'file': 'global_daily_windgust_mean_',\n",
    "                                     'variable': 'wind_speed_of_gust'},\n",
    "            'windgust_min': {'folder': 'windgust_min', \n",
    "                                     'file': 'global_daily_windgust_min_',\n",
    "                                     'variable': 'wind_speed_of_gust'},\n",
    "             \n",
    "            'windspeed_max': {'folder': 'windspeed_max', \n",
    "                                     'file': 'global_daily_windspeed_max_',\n",
    "                                     'variable': 'wind_speed'},\n",
    "            'windspeed_mean': {'folder': 'windspeed_mean', \n",
    "                                     'file': 'global_daily_windspeed_mean_',\n",
    "                                     'variable': 'wind_speed'},\n",
    "            'windspeed_min': {'folder': 'windspeed_min', \n",
    "                                     'file': 'global_daily_windspeed_min_',\n",
    "                                     'variable': 'wind_speed'}\n",
    "             \n",
    "            }"
   ]
  },
  {
   "cell_type": "code",
   "execution_count": null,
   "metadata": {},
   "outputs": [],
   "source": [
    "# opening netCDF4 files via url is not reliable\n",
    "# (it requires the package to be built with OPenDAP support)\n",
    "# we dowload and write to disk the file before opening it\n",
    "def download_MET_file(url, file_name):\n",
    "    try:\n",
    "        os.remove(file_name)\n",
    "    except: \n",
    "        pass\n",
    "    \n",
    "    # open in binary mode\n",
    "    with open(file_name, \"wb\") as file:\n",
    "        # get request\n",
    "        response = get(url)\n",
    "        # write to file\n",
    "        file.write(response.content)\n",
    "        file.close()"
   ]
  },
  {
   "cell_type": "code",
   "execution_count": null,
   "metadata": {},
   "outputs": [],
   "source": [
    "def create_aggr_df(indicator, daterange):\n",
    "    days = []\n",
    "    country = []\n",
    "    avg = []\n",
    "    std = []\n",
    "    region = []\n",
    "    city = []\n",
    "\n",
    "    print(\"loading data for {} from {} to {}\".format(indicator,\n",
    "                                                     daterange[0].strftime('%Y-%m-%d'),\n",
    "                                                     daterange[-1].strftime('%Y-%m-%d')))\n",
    "    \n",
    "    for day in daterange:\n",
    "        \n",
    "        download_MET_file(URL+\"{}/{}{}.nc\".format(variables[indicator]['folder'],\n",
    "                                                variables[indicator]['file'],\n",
    "                                                day.strftime('%Y%m%d')), \"temp/netCDF4_file.nc\")\n",
    "        \n",
    "        \n",
    "        nc = netCDF4.Dataset(\"temp/netCDF4_file.nc\")\n",
    "        \n",
    "\n",
    "        data = nc.variables[variables[indicator]['variable']][:].data.reshape(-1)\n",
    "\n",
    "        for area_0 in adm_2_to_grid:\n",
    "            for area_1 in adm_2_to_grid[area_0]:\n",
    "                for area_2 in adm_2_to_grid[area_0][area_1]:\n",
    "                    idx_list = [point[0] for point in adm_2_to_grid[area_0][area_1][area_2]]\n",
    "\n",
    "                    to_avg = [data[idx] for idx in idx_list]\n",
    "\n",
    "                    days.append(day.strftime('%Y-%m-%d'))\n",
    "                    country.append(area_0)\n",
    "                    region.append(area_1)\n",
    "                    city.append(area_2)\n",
    "                    avg.append(np.mean(to_avg))\n",
    "                    std.append(np.std(to_avg))\n",
    "        \n",
    "    d = {'day': days, 'country': country, 'region': region, 'city': city,\n",
    "         indicator+'_avg': avg, \n",
    "         indicator+'_std': std }\n",
    "    return pd.DataFrame(data=d)\n",
    "    "
   ]
  },
  {
   "cell_type": "code",
   "execution_count": null,
   "metadata": {
    "scrolled": false
   },
   "outputs": [],
   "source": [
    "%%time\n",
    "dfs = [create_aggr_df(indicator, DATERANGE) for indicator in variables]"
   ]
  },
  {
   "cell_type": "code",
   "execution_count": null,
   "metadata": {},
   "outputs": [],
   "source": [
    "dfs[-1]"
   ]
  },
  {
   "cell_type": "code",
   "execution_count": null,
   "metadata": {},
   "outputs": [],
   "source": [
    "from functools import reduce\n",
    "df_final = reduce(lambda left,right: pd.merge(left,right,on=['day', 'country', 'region', 'city']), dfs)"
   ]
  },
  {
   "cell_type": "code",
   "execution_count": null,
   "metadata": {},
   "outputs": [],
   "source": [
    "df_final"
   ]
  },
  {
   "cell_type": "code",
   "execution_count": null,
   "metadata": {},
   "outputs": [],
   "source": [
    "!mkdir to_upload\n",
    "df_final.to_pickle(\"to_upload/NEW_weather.pkl\", protocol=3)"
   ]
  },
  {
   "cell_type": "code",
   "execution_count": null,
   "metadata": {},
   "outputs": [],
   "source": []
  }
 ],
 "metadata": {
  "colab": {
   "collapsed_sections": [],
   "name": "merge_grid_dicts.ipynb",
   "provenance": [],
   "toc_visible": true
  },
  "kernelspec": {
   "display_name": "Python [conda env:geo_env]",
   "language": "python",
   "name": "conda-env-geo_env-py"
  },
  "language_info": {
   "codemirror_mode": {
    "name": "ipython",
    "version": 3
   },
   "file_extension": ".py",
   "mimetype": "text/x-python",
   "name": "python",
   "nbconvert_exporter": "python",
   "pygments_lexer": "ipython3",
   "version": "3.8.2"
  }
 },
 "nbformat": 4,
 "nbformat_minor": 1
}
